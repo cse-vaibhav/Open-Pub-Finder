{
 "cells": [
  {
   "cell_type": "code",
   "execution_count": 80,
   "id": "0a8be6f4-bd2b-44f9-8109-c7696b71d58e",
   "metadata": {
    "tags": []
   },
   "outputs": [],
   "source": [
    "import pandas as pd\n",
    "import numpy as np\n",
    "import matplotlib.pyplot as plt\n",
    "import seaborn as sns\n",
    "%matplotlib inline\n",
    "\n",
    "from sklearn import set_config\n",
    "from sklearn.neighbors import NearestNeighbors\n",
    "from sklearn.pipeline import Pipeline\n",
    "from sklearn.compose import ColumnTransformer\n",
    "from sklearn.preprocessing import StandardScaler, OrdinalEncoder\n",
    "from sklearn.model_selection import GridSearchCV\n",
    "from sklearn.metrics import silhouette_score\n",
    "\n",
    "set_config(display=\"diagram\")"
   ]
  },
  {
   "cell_type": "code",
   "execution_count": 17,
   "id": "f7624228-cc23-406d-8ad3-5f8b6f04e621",
   "metadata": {
    "tags": []
   },
   "outputs": [
    {
     "data": {
      "text/html": [
       "<div>\n",
       "<style scoped>\n",
       "    .dataframe tbody tr th:only-of-type {\n",
       "        vertical-align: middle;\n",
       "    }\n",
       "\n",
       "    .dataframe tbody tr th {\n",
       "        vertical-align: top;\n",
       "    }\n",
       "\n",
       "    .dataframe thead th {\n",
       "        text-align: right;\n",
       "    }\n",
       "</style>\n",
       "<table border=\"1\" class=\"dataframe\">\n",
       "  <thead>\n",
       "    <tr style=\"text-align: right;\">\n",
       "      <th></th>\n",
       "      <th>fsa_id</th>\n",
       "      <th>name</th>\n",
       "      <th>address</th>\n",
       "      <th>postcode</th>\n",
       "      <th>easting</th>\n",
       "      <th>northing</th>\n",
       "      <th>latitude</th>\n",
       "      <th>longitude</th>\n",
       "      <th>local_authority</th>\n",
       "    </tr>\n",
       "  </thead>\n",
       "  <tbody>\n",
       "    <tr>\n",
       "      <th>0</th>\n",
       "      <td>22</td>\n",
       "      <td>Anchor Inn</td>\n",
       "      <td>Upper Street, Stratford St Mary, COLCHESTER</td>\n",
       "      <td>CO7 6LW</td>\n",
       "      <td>604749</td>\n",
       "      <td>234404</td>\n",
       "      <td>51.970379</td>\n",
       "      <td>0.979340</td>\n",
       "      <td>Babergh</td>\n",
       "    </tr>\n",
       "    <tr>\n",
       "      <th>1</th>\n",
       "      <td>36</td>\n",
       "      <td>Ark Bar Restaurant</td>\n",
       "      <td>Ark Bar And Restaurant, Cattawade Street, Bran...</td>\n",
       "      <td>CO11 1RH</td>\n",
       "      <td>610194</td>\n",
       "      <td>233329</td>\n",
       "      <td>51.958698</td>\n",
       "      <td>1.057832</td>\n",
       "      <td>Babergh</td>\n",
       "    </tr>\n",
       "    <tr>\n",
       "      <th>2</th>\n",
       "      <td>74</td>\n",
       "      <td>Black Boy</td>\n",
       "      <td>The Lady Elizabeth, 7 Market Hill, SUDBURY, Su...</td>\n",
       "      <td>CO10 2EA</td>\n",
       "      <td>587334</td>\n",
       "      <td>241316</td>\n",
       "      <td>52.038595</td>\n",
       "      <td>0.729915</td>\n",
       "      <td>Babergh</td>\n",
       "    </tr>\n",
       "    <tr>\n",
       "      <th>3</th>\n",
       "      <td>75</td>\n",
       "      <td>Black Horse</td>\n",
       "      <td>Lower Street, Stratford St Mary, COLCHESTER</td>\n",
       "      <td>CO7 6JS</td>\n",
       "      <td>622675</td>\n",
       "      <td>-5527598</td>\n",
       "      <td>\\N</td>\n",
       "      <td>\\N</td>\n",
       "      <td>Babergh</td>\n",
       "    </tr>\n",
       "    <tr>\n",
       "      <th>4</th>\n",
       "      <td>76</td>\n",
       "      <td>Black Lion</td>\n",
       "      <td>Lion Road, Glemsford, SUDBURY</td>\n",
       "      <td>CO10 7RF</td>\n",
       "      <td>622675</td>\n",
       "      <td>-5527598</td>\n",
       "      <td>\\N</td>\n",
       "      <td>\\N</td>\n",
       "      <td>Babergh</td>\n",
       "    </tr>\n",
       "  </tbody>\n",
       "</table>\n",
       "</div>"
      ],
      "text/plain": [
       "   fsa_id                name  \\\n",
       "0      22          Anchor Inn   \n",
       "1      36  Ark Bar Restaurant   \n",
       "2      74           Black Boy   \n",
       "3      75         Black Horse   \n",
       "4      76          Black Lion   \n",
       "\n",
       "                                             address  postcode  easting  \\\n",
       "0        Upper Street, Stratford St Mary, COLCHESTER   CO7 6LW   604749   \n",
       "1  Ark Bar And Restaurant, Cattawade Street, Bran...  CO11 1RH   610194   \n",
       "2  The Lady Elizabeth, 7 Market Hill, SUDBURY, Su...  CO10 2EA   587334   \n",
       "3        Lower Street, Stratford St Mary, COLCHESTER   CO7 6JS   622675   \n",
       "4                      Lion Road, Glemsford, SUDBURY  CO10 7RF   622675   \n",
       "\n",
       "   northing   latitude longitude local_authority  \n",
       "0    234404  51.970379  0.979340         Babergh  \n",
       "1    233329  51.958698  1.057832         Babergh  \n",
       "2    241316  52.038595  0.729915         Babergh  \n",
       "3  -5527598         \\N        \\N         Babergh  \n",
       "4  -5527598         \\N        \\N         Babergh  "
      ]
     },
     "execution_count": 17,
     "metadata": {},
     "output_type": "execute_result"
    }
   ],
   "source": [
    "df = pd.read_csv(\"./data/open_pubs.csv\", names=[\"fsa_id\", \"name\", \"address\", \"postcode\", \"easting\", \"northing\", \"latitude\", \"longitude\", \"local_authority\"])\n",
    "df.head()"
   ]
  },
  {
   "cell_type": "code",
   "execution_count": 23,
   "id": "64b58474-a7da-443d-92bf-a804d4331c76",
   "metadata": {
    "tags": []
   },
   "outputs": [
    {
     "data": {
      "text/plain": [
       "(50564, 9)"
      ]
     },
     "execution_count": 23,
     "metadata": {},
     "output_type": "execute_result"
    }
   ],
   "source": [
    "df.latitude.replace(\"\\\\N\", np.NaN, inplace=True)\n",
    "df.longitude.replace(\"\\\\N\", np.NaN, inplace=True)\n",
    "df.dropna(inplace=True)\n",
    "df.shape"
   ]
  },
  {
   "cell_type": "markdown",
   "id": "1e6c135a-ad2c-4c23-ba0f-c28ea27ce553",
   "metadata": {},
   "source": [
    "# Pub Recommendation"
   ]
  },
  {
   "cell_type": "code",
   "execution_count": 25,
   "id": "c1d30888-9632-4bdc-91a9-6e29bc3af56b",
   "metadata": {
    "tags": []
   },
   "outputs": [
    {
     "data": {
      "text/plain": [
       "[(0, 'fsa_id'),\n",
       " (1, 'name'),\n",
       " (2, 'address'),\n",
       " (3, 'postcode'),\n",
       " (4, 'easting'),\n",
       " (5, 'northing'),\n",
       " (6, 'latitude'),\n",
       " (7, 'longitude'),\n",
       " (8, 'local_authority')]"
      ]
     },
     "execution_count": 25,
     "metadata": {},
     "output_type": "execute_result"
    }
   ],
   "source": [
    "list(enumerate(df.columns))"
   ]
  },
  {
   "cell_type": "code",
   "execution_count": 68,
   "id": "aef9e24a-a175-4f20-815e-a132e0bfbee7",
   "metadata": {
    "tags": []
   },
   "outputs": [
    {
     "data": {
      "text/plain": [
       "(50564, 2)"
      ]
     },
     "execution_count": 68,
     "metadata": {},
     "output_type": "execute_result"
    }
   ],
   "source": [
    "preprocessor = ColumnTransformer([\n",
    "    (\"scaler\", StandardScaler(), [6, 7]),\n",
    "], remainder=\"drop\")\n",
    "tnf_df = preprocessor.fit_transform(df.values)\n",
    "tnf_df.shape"
   ]
  },
  {
   "cell_type": "code",
   "execution_count": 69,
   "id": "98dd3d89-7aff-4e5a-8d82-03c4eaad80b9",
   "metadata": {
    "tags": []
   },
   "outputs": [
    {
     "data": {
      "text/html": [
       "<style>#sk-container-id-4 {color: black;background-color: white;}#sk-container-id-4 pre{padding: 0;}#sk-container-id-4 div.sk-toggleable {background-color: white;}#sk-container-id-4 label.sk-toggleable__label {cursor: pointer;display: block;width: 100%;margin-bottom: 0;padding: 0.3em;box-sizing: border-box;text-align: center;}#sk-container-id-4 label.sk-toggleable__label-arrow:before {content: \"▸\";float: left;margin-right: 0.25em;color: #696969;}#sk-container-id-4 label.sk-toggleable__label-arrow:hover:before {color: black;}#sk-container-id-4 div.sk-estimator:hover label.sk-toggleable__label-arrow:before {color: black;}#sk-container-id-4 div.sk-toggleable__content {max-height: 0;max-width: 0;overflow: hidden;text-align: left;background-color: #f0f8ff;}#sk-container-id-4 div.sk-toggleable__content pre {margin: 0.2em;color: black;border-radius: 0.25em;background-color: #f0f8ff;}#sk-container-id-4 input.sk-toggleable__control:checked~div.sk-toggleable__content {max-height: 200px;max-width: 100%;overflow: auto;}#sk-container-id-4 input.sk-toggleable__control:checked~label.sk-toggleable__label-arrow:before {content: \"▾\";}#sk-container-id-4 div.sk-estimator input.sk-toggleable__control:checked~label.sk-toggleable__label {background-color: #d4ebff;}#sk-container-id-4 div.sk-label input.sk-toggleable__control:checked~label.sk-toggleable__label {background-color: #d4ebff;}#sk-container-id-4 input.sk-hidden--visually {border: 0;clip: rect(1px 1px 1px 1px);clip: rect(1px, 1px, 1px, 1px);height: 1px;margin: -1px;overflow: hidden;padding: 0;position: absolute;width: 1px;}#sk-container-id-4 div.sk-estimator {font-family: monospace;background-color: #f0f8ff;border: 1px dotted black;border-radius: 0.25em;box-sizing: border-box;margin-bottom: 0.5em;}#sk-container-id-4 div.sk-estimator:hover {background-color: #d4ebff;}#sk-container-id-4 div.sk-parallel-item::after {content: \"\";width: 100%;border-bottom: 1px solid gray;flex-grow: 1;}#sk-container-id-4 div.sk-label:hover label.sk-toggleable__label {background-color: #d4ebff;}#sk-container-id-4 div.sk-serial::before {content: \"\";position: absolute;border-left: 1px solid gray;box-sizing: border-box;top: 0;bottom: 0;left: 50%;z-index: 0;}#sk-container-id-4 div.sk-serial {display: flex;flex-direction: column;align-items: center;background-color: white;padding-right: 0.2em;padding-left: 0.2em;position: relative;}#sk-container-id-4 div.sk-item {position: relative;z-index: 1;}#sk-container-id-4 div.sk-parallel {display: flex;align-items: stretch;justify-content: center;background-color: white;position: relative;}#sk-container-id-4 div.sk-item::before, #sk-container-id-4 div.sk-parallel-item::before {content: \"\";position: absolute;border-left: 1px solid gray;box-sizing: border-box;top: 0;bottom: 0;left: 50%;z-index: -1;}#sk-container-id-4 div.sk-parallel-item {display: flex;flex-direction: column;z-index: 1;position: relative;background-color: white;}#sk-container-id-4 div.sk-parallel-item:first-child::after {align-self: flex-end;width: 50%;}#sk-container-id-4 div.sk-parallel-item:last-child::after {align-self: flex-start;width: 50%;}#sk-container-id-4 div.sk-parallel-item:only-child::after {width: 0;}#sk-container-id-4 div.sk-dashed-wrapped {border: 1px dashed gray;margin: 0 0.4em 0.5em 0.4em;box-sizing: border-box;padding-bottom: 0.4em;background-color: white;}#sk-container-id-4 div.sk-label label {font-family: monospace;font-weight: bold;display: inline-block;line-height: 1.2em;}#sk-container-id-4 div.sk-label-container {text-align: center;}#sk-container-id-4 div.sk-container {/* jupyter's `normalize.less` sets `[hidden] { display: none; }` but bootstrap.min.css set `[hidden] { display: none !important; }` so we also need the `!important` here to be able to override the default hidden behavior on the sphinx rendered scikit-learn.org. See: https://github.com/scikit-learn/scikit-learn/issues/21755 */display: inline-block !important;position: relative;}#sk-container-id-4 div.sk-text-repr-fallback {display: none;}</style><div id=\"sk-container-id-4\" class=\"sk-top-container\"><div class=\"sk-text-repr-fallback\"><pre>NearestNeighbors(metric=&#x27;euclidean&#x27;, n_jobs=-1)</pre><b>In a Jupyter environment, please rerun this cell to show the HTML representation or trust the notebook. <br />On GitHub, the HTML representation is unable to render, please try loading this page with nbviewer.org.</b></div><div class=\"sk-container\" hidden><div class=\"sk-item\"><div class=\"sk-estimator sk-toggleable\"><input class=\"sk-toggleable__control sk-hidden--visually\" id=\"sk-estimator-id-4\" type=\"checkbox\" checked><label for=\"sk-estimator-id-4\" class=\"sk-toggleable__label sk-toggleable__label-arrow\">NearestNeighbors</label><div class=\"sk-toggleable__content\"><pre>NearestNeighbors(metric=&#x27;euclidean&#x27;, n_jobs=-1)</pre></div></div></div></div></div>"
      ],
      "text/plain": [
       "NearestNeighbors(metric='euclidean', n_jobs=-1)"
      ]
     },
     "execution_count": 69,
     "metadata": {},
     "output_type": "execute_result"
    }
   ],
   "source": [
    "model = NearestNeighbors(metric=\"euclidean\", n_jobs=-1)\n",
    "model.fit(tnf_df)"
   ]
  },
  {
   "cell_type": "code",
   "execution_count": 70,
   "id": "5d4d1c1f-4199-483b-bb37-27509f83e7b1",
   "metadata": {
    "tags": []
   },
   "outputs": [
    {
     "data": {
      "text/html": [
       "<div>\n",
       "<style scoped>\n",
       "    .dataframe tbody tr th:only-of-type {\n",
       "        vertical-align: middle;\n",
       "    }\n",
       "\n",
       "    .dataframe tbody tr th {\n",
       "        vertical-align: top;\n",
       "    }\n",
       "\n",
       "    .dataframe thead th {\n",
       "        text-align: right;\n",
       "    }\n",
       "</style>\n",
       "<table border=\"1\" class=\"dataframe\">\n",
       "  <thead>\n",
       "    <tr style=\"text-align: right;\">\n",
       "      <th></th>\n",
       "      <th>fsa_id</th>\n",
       "      <th>name</th>\n",
       "      <th>address</th>\n",
       "      <th>postcode</th>\n",
       "      <th>easting</th>\n",
       "      <th>northing</th>\n",
       "      <th>latitude</th>\n",
       "      <th>longitude</th>\n",
       "      <th>local_authority</th>\n",
       "    </tr>\n",
       "  </thead>\n",
       "  <tbody>\n",
       "    <tr>\n",
       "      <th>41</th>\n",
       "      <td>755</td>\n",
       "      <td>The Brook Inn</td>\n",
       "      <td>241 Bures Road, Great Cornard, SUDBURY</td>\n",
       "      <td>CO10 0JQ</td>\n",
       "      <td>588555</td>\n",
       "      <td>239362</td>\n",
       "      <td>52.020633</td>\n",
       "      <td>0.746619</td>\n",
       "      <td>Babergh</td>\n",
       "    </tr>\n",
       "    <tr>\n",
       "      <th>20</th>\n",
       "      <td>416</td>\n",
       "      <td>Kins Head Inn</td>\n",
       "      <td>115 Bures Road, Great Cornard, SUDBURY</td>\n",
       "      <td>CO10 0JE</td>\n",
       "      <td>588383</td>\n",
       "      <td>239975</td>\n",
       "      <td>52.026188</td>\n",
       "      <td>0.744452</td>\n",
       "      <td>Babergh</td>\n",
       "    </tr>\n",
       "    <tr>\n",
       "      <th>55</th>\n",
       "      <td>783</td>\n",
       "      <td>The Five Bells</td>\n",
       "      <td>63 Bures Road, Great Cornard, SUDBURY</td>\n",
       "      <td>CO10 0HU</td>\n",
       "      <td>588333</td>\n",
       "      <td>240302</td>\n",
       "      <td>52.029137</td>\n",
       "      <td>0.743898</td>\n",
       "      <td>Babergh</td>\n",
       "    </tr>\n",
       "    <tr>\n",
       "      <th>382</th>\n",
       "      <td>4876</td>\n",
       "      <td>The Henny Swan</td>\n",
       "      <td>Henny Street, Great Henny, Sudbury, Suffolk</td>\n",
       "      <td>CO10 7LS</td>\n",
       "      <td>587924</td>\n",
       "      <td>238464</td>\n",
       "      <td>52.012780</td>\n",
       "      <td>0.736926</td>\n",
       "      <td>Braintree</td>\n",
       "    </tr>\n",
       "    <tr>\n",
       "      <th>22</th>\n",
       "      <td>459</td>\n",
       "      <td>Maldon Grey</td>\n",
       "      <td>Cats Lane, Great Cornard, SUDBURY</td>\n",
       "      <td>CO10 2RZ</td>\n",
       "      <td>588540</td>\n",
       "      <td>241341</td>\n",
       "      <td>52.038399</td>\n",
       "      <td>0.747488</td>\n",
       "      <td>Babergh</td>\n",
       "    </tr>\n",
       "  </tbody>\n",
       "</table>\n",
       "</div>"
      ],
      "text/plain": [
       "     fsa_id            name                                      address  \\\n",
       "41      755   The Brook Inn       241 Bures Road, Great Cornard, SUDBURY   \n",
       "20      416   Kins Head Inn       115 Bures Road, Great Cornard, SUDBURY   \n",
       "55      783  The Five Bells        63 Bures Road, Great Cornard, SUDBURY   \n",
       "382    4876  The Henny Swan  Henny Street, Great Henny, Sudbury, Suffolk   \n",
       "22      459     Maldon Grey            Cats Lane, Great Cornard, SUDBURY   \n",
       "\n",
       "     postcode  easting  northing   latitude longitude local_authority  \n",
       "41   CO10 0JQ   588555    239362  52.020633  0.746619         Babergh  \n",
       "20   CO10 0JE   588383    239975  52.026188  0.744452         Babergh  \n",
       "55   CO10 0HU   588333    240302  52.029137  0.743898         Babergh  \n",
       "382  CO10 7LS   587924    238464  52.012780  0.736926       Braintree  \n",
       "22   CO10 2RZ   588540    241341  52.038399  0.747488         Babergh  "
      ]
     },
     "execution_count": 70,
     "metadata": {},
     "output_type": "execute_result"
    }
   ],
   "source": [
    "pub = 34\n",
    "pub_data = tnf_df[pub].reshape(1, -1)\n",
    "distances, indices = model.kneighbors(pub_data, n_neighbors=5)\n",
    "df.iloc[indices[0], :]"
   ]
  },
  {
   "cell_type": "markdown",
   "id": "6bd48014-3061-4fed-9d5e-3340ffd93a1e",
   "metadata": {},
   "source": [
    "## Pipeline"
   ]
  },
  {
   "cell_type": "code",
   "execution_count": 82,
   "id": "ca5916f9-0ed7-40c3-8c2a-dc9456e56664",
   "metadata": {
    "tags": []
   },
   "outputs": [
    {
     "data": {
      "text/html": [
       "<div>\n",
       "<style scoped>\n",
       "    .dataframe tbody tr th:only-of-type {\n",
       "        vertical-align: middle;\n",
       "    }\n",
       "\n",
       "    .dataframe tbody tr th {\n",
       "        vertical-align: top;\n",
       "    }\n",
       "\n",
       "    .dataframe thead th {\n",
       "        text-align: right;\n",
       "    }\n",
       "</style>\n",
       "<table border=\"1\" class=\"dataframe\">\n",
       "  <thead>\n",
       "    <tr style=\"text-align: right;\">\n",
       "      <th></th>\n",
       "      <th>fsa_id</th>\n",
       "      <th>name</th>\n",
       "      <th>address</th>\n",
       "      <th>postcode</th>\n",
       "      <th>easting</th>\n",
       "      <th>northing</th>\n",
       "      <th>latitude</th>\n",
       "      <th>longitude</th>\n",
       "      <th>local_authority</th>\n",
       "    </tr>\n",
       "  </thead>\n",
       "  <tbody>\n",
       "    <tr>\n",
       "      <th>41</th>\n",
       "      <td>755</td>\n",
       "      <td>The Brook Inn</td>\n",
       "      <td>241 Bures Road, Great Cornard, SUDBURY</td>\n",
       "      <td>CO10 0JQ</td>\n",
       "      <td>588555</td>\n",
       "      <td>239362</td>\n",
       "      <td>52.020633</td>\n",
       "      <td>0.746619</td>\n",
       "      <td>Babergh</td>\n",
       "    </tr>\n",
       "    <tr>\n",
       "      <th>20</th>\n",
       "      <td>416</td>\n",
       "      <td>Kins Head Inn</td>\n",
       "      <td>115 Bures Road, Great Cornard, SUDBURY</td>\n",
       "      <td>CO10 0JE</td>\n",
       "      <td>588383</td>\n",
       "      <td>239975</td>\n",
       "      <td>52.026188</td>\n",
       "      <td>0.744452</td>\n",
       "      <td>Babergh</td>\n",
       "    </tr>\n",
       "    <tr>\n",
       "      <th>55</th>\n",
       "      <td>783</td>\n",
       "      <td>The Five Bells</td>\n",
       "      <td>63 Bures Road, Great Cornard, SUDBURY</td>\n",
       "      <td>CO10 0HU</td>\n",
       "      <td>588333</td>\n",
       "      <td>240302</td>\n",
       "      <td>52.029137</td>\n",
       "      <td>0.743898</td>\n",
       "      <td>Babergh</td>\n",
       "    </tr>\n",
       "    <tr>\n",
       "      <th>382</th>\n",
       "      <td>4876</td>\n",
       "      <td>The Henny Swan</td>\n",
       "      <td>Henny Street, Great Henny, Sudbury, Suffolk</td>\n",
       "      <td>CO10 7LS</td>\n",
       "      <td>587924</td>\n",
       "      <td>238464</td>\n",
       "      <td>52.012780</td>\n",
       "      <td>0.736926</td>\n",
       "      <td>Braintree</td>\n",
       "    </tr>\n",
       "    <tr>\n",
       "      <th>22</th>\n",
       "      <td>459</td>\n",
       "      <td>Maldon Grey</td>\n",
       "      <td>Cats Lane, Great Cornard, SUDBURY</td>\n",
       "      <td>CO10 2RZ</td>\n",
       "      <td>588540</td>\n",
       "      <td>241341</td>\n",
       "      <td>52.038399</td>\n",
       "      <td>0.747488</td>\n",
       "      <td>Babergh</td>\n",
       "    </tr>\n",
       "    <tr>\n",
       "      <th>7</th>\n",
       "      <td>122</td>\n",
       "      <td>Caffeine Lounge</td>\n",
       "      <td>14 Borehamgate Shopping Precinct, King Street,...</td>\n",
       "      <td>CO10 2ED</td>\n",
       "      <td>587527</td>\n",
       "      <td>241247</td>\n",
       "      <td>52.037903</td>\n",
       "      <td>0.732687</td>\n",
       "      <td>Babergh</td>\n",
       "    </tr>\n",
       "  </tbody>\n",
       "</table>\n",
       "</div>"
      ],
      "text/plain": [
       "     fsa_id             name  \\\n",
       "41      755    The Brook Inn   \n",
       "20      416    Kins Head Inn   \n",
       "55      783   The Five Bells   \n",
       "382    4876   The Henny Swan   \n",
       "22      459      Maldon Grey   \n",
       "7       122  Caffeine Lounge   \n",
       "\n",
       "                                               address  postcode  easting  \\\n",
       "41              241 Bures Road, Great Cornard, SUDBURY  CO10 0JQ   588555   \n",
       "20              115 Bures Road, Great Cornard, SUDBURY  CO10 0JE   588383   \n",
       "55               63 Bures Road, Great Cornard, SUDBURY  CO10 0HU   588333   \n",
       "382        Henny Street, Great Henny, Sudbury, Suffolk  CO10 7LS   587924   \n",
       "22                   Cats Lane, Great Cornard, SUDBURY  CO10 2RZ   588540   \n",
       "7    14 Borehamgate Shopping Precinct, King Street,...  CO10 2ED   587527   \n",
       "\n",
       "     northing   latitude longitude local_authority  \n",
       "41     239362  52.020633  0.746619         Babergh  \n",
       "20     239975  52.026188  0.744452         Babergh  \n",
       "55     240302  52.029137  0.743898         Babergh  \n",
       "382    238464  52.012780  0.736926       Braintree  \n",
       "22     241341  52.038399  0.747488         Babergh  \n",
       "7      241247  52.037903  0.732687         Babergh  "
      ]
     },
     "execution_count": 82,
     "metadata": {},
     "output_type": "execute_result"
    }
   ],
   "source": [
    "class PubRecommender:\n",
    "    def __init__(self, preprocessor, model, data):\n",
    "        self.preprocessor = preprocessor\n",
    "        self.model = model\n",
    "        self.data = df\n",
    "    \n",
    "    def get_k_recommendations(self, user_data, k):\n",
    "        tnf_user_data = self.preprocessor.transform(user_data)\n",
    "        indices = self.model.kneighbors(tnf_user_data, n_neighbors=k, return_distance=False)[0].tolist()\n",
    "        return self.data.iloc[indices, :]\n",
    "    \n",
    "user_data = df.iloc[pub, :].values.reshape(1, -1)\n",
    "recommender = PubRecommender(preprocessor, model, df)\n",
    "recommender.get_k_recommendations(user_data, 6)"
   ]
  },
  {
   "cell_type": "code",
   "execution_count": 83,
   "id": "756dc3a3-5fc3-44c5-8360-72a53d938711",
   "metadata": {
    "tags": []
   },
   "outputs": [
    {
     "data": {
      "text/plain": [
       "<50564x50564 sparse matrix of type '<class 'numpy.float64'>'\n",
       "\twith 252820 stored elements in Compressed Sparse Row format>"
      ]
     },
     "execution_count": 83,
     "metadata": {},
     "output_type": "execute_result"
    }
   ],
   "source": [
    "model.kneighbors_graph"
   ]
  },
  {
   "cell_type": "code",
   "execution_count": null,
   "id": "a0702e5d-f21d-4637-921d-b3e40cd2c38a",
   "metadata": {},
   "outputs": [],
   "source": []
  }
 ],
 "metadata": {
  "kernelspec": {
   "display_name": "Python 3 (ipykernel)",
   "language": "python",
   "name": "python3"
  },
  "language_info": {
   "codemirror_mode": {
    "name": "ipython",
    "version": 3
   },
   "file_extension": ".py",
   "mimetype": "text/x-python",
   "name": "python",
   "nbconvert_exporter": "python",
   "pygments_lexer": "ipython3",
   "version": "3.10.10"
  }
 },
 "nbformat": 4,
 "nbformat_minor": 5
}
